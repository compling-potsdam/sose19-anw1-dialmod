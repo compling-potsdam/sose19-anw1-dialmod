{
 "cells": [
  {
   "cell_type": "markdown",
   "metadata": {},
   "source": [
    "# Rasa NLU\n",
    "\n",
    "## Installation\n",
    "\n",
    "Folgendes am besten in einem virtualenv / conda environment ausführen:\n",
    "\n",
    "```\n",
    "pip install rasa_core rasa_nlu[tensorflow] -U\n",
    "pip install sklearn_crfsuite -U\n",
    "```"
   ]
  },
  {
   "cell_type": "code",
   "execution_count": 1,
   "metadata": {},
   "outputs": [
    {
     "name": "stdout",
     "output_type": "stream",
     "text": [
      "rasa_nlu: 0.15.0 rasa_core: 0.14.2\n"
     ]
    },
    {
     "name": "stderr",
     "output_type": "stream",
     "text": [
      ":0: UserWarning: You do not have a working installation of the service_identity module: 'No module named 'service_identity''.  Please install it from <https://pypi.python.org/pypi/service_identity> and make sure all of its dependencies are satisfied.  Without the service_identity module, Twisted can perform only rudimentary TLS client hostname verification.  Many valid certificate/hostname mappings may be rejected.\n"
     ]
    }
   ],
   "source": [
    "import rasa_nlu\n",
    "import rasa_core\n",
    "import json\n",
    "\n",
    "print(\"rasa_nlu: {} rasa_core: {}\".format(rasa_nlu.__version__, rasa_core.__version__))"
   ]
  },
  {
   "cell_type": "code",
   "execution_count": 2,
   "metadata": {},
   "outputs": [],
   "source": [
    "%matplotlib inline\n",
    "\n",
    "import logging, io, json, warnings\n",
    "logging.basicConfig(level=\"INFO\")\n",
    "warnings.filterwarnings('ignore')\n",
    "\n",
    "def pprint(o):\n",
    "    # small helper to make dict dumps a bit prettier\n",
    "    print(json.dumps(o, indent=2))"
   ]
  },
  {
   "cell_type": "code",
   "execution_count": 3,
   "metadata": {},
   "outputs": [],
   "source": [
    "from rasa_nlu.training_data import load_data\n",
    "from rasa_nlu.config import RasaNLUModelConfig\n",
    "from rasa_nlu.model import Trainer\n",
    "from rasa_nlu import config"
   ]
  },
  {
   "cell_type": "code",
   "execution_count": 4,
   "metadata": {},
   "outputs": [
    {
     "name": "stderr",
     "output_type": "stream",
     "text": [
      "INFO:rasa_nlu.training_data.loading:Training data format of nlu.md is md\n",
      "INFO:rasa_nlu.training_data.training_data:Training data stats: \n",
      "\t- intent examples: 22 (3 distinct intents)\n",
      "\t- Found intents: 'greet', 'restaurant_search', 'thankyou'\n",
      "\t- entity examples: 8 (2 distinct entities)\n",
      "\t- found entities: 'location', 'cuisine'\n",
      "\n"
     ]
    }
   ],
   "source": [
    "# loading the nlu training samples\n",
    "training_data = load_data('nlu.md')"
   ]
  },
  {
   "cell_type": "code",
   "execution_count": 5,
   "metadata": {},
   "outputs": [],
   "source": [
    "# trainer to educate our pipeline\n",
    "trainer = Trainer(config.load(\"nlu_config.yml\"))"
   ]
  },
  {
   "cell_type": "code",
   "execution_count": 6,
   "metadata": {},
   "outputs": [
    {
     "name": "stderr",
     "output_type": "stream",
     "text": [
      "INFO:rasa_nlu.model:Starting to train component WhitespaceTokenizer\n",
      "INFO:rasa_nlu.model:Finished training component.\n",
      "INFO:rasa_nlu.model:Starting to train component RegexFeaturizer\n",
      "INFO:rasa_nlu.model:Finished training component.\n",
      "INFO:rasa_nlu.model:Starting to train component CRFEntityExtractor\n",
      "INFO:rasa_nlu.model:Finished training component.\n",
      "INFO:rasa_nlu.model:Starting to train component EntitySynonymMapper\n",
      "INFO:rasa_nlu.model:Finished training component.\n",
      "INFO:rasa_nlu.model:Starting to train component CountVectorsFeaturizer\n",
      "INFO:rasa_nlu.model:Finished training component.\n",
      "INFO:rasa_nlu.model:Starting to train component EmbeddingIntentClassifier\n",
      "WARNING:tensorflow:From /Users/das/anaconda2/envs/py36/lib/python3.6/site-packages/rasa_nlu/classifiers/embedding_intent_classifier.py:285: dense (from tensorflow.python.layers.core) is deprecated and will be removed in a future version.\n",
      "Instructions for updating:\n",
      "Use keras.layers.dense instead.\n",
      "WARNING:tensorflow:From /Users/das/anaconda2/envs/py36/lib/python3.6/site-packages/tensorflow/python/framework/op_def_library.py:263: colocate_with (from tensorflow.python.framework.ops) is deprecated and will be removed in a future version.\n",
      "Instructions for updating:\n",
      "Colocations handled automatically by placer.\n",
      "WARNING:tensorflow:From /Users/das/anaconda2/envs/py36/lib/python3.6/site-packages/rasa_nlu/classifiers/embedding_intent_classifier.py:286: dropout (from tensorflow.python.layers.core) is deprecated and will be removed in a future version.\n",
      "Instructions for updating:\n",
      "Use keras.layers.dropout instead.\n",
      "WARNING:tensorflow:From /Users/das/anaconda2/envs/py36/lib/python3.6/site-packages/tensorflow/python/keras/layers/core.py:143: calling dropout (from tensorflow.python.ops.nn_ops) with keep_prob is deprecated and will be removed in a future version.\n",
      "Instructions for updating:\n",
      "Please use `rate` instead of `keep_prob`. Rate should be set to `rate = 1 - keep_prob`.\n"
     ]
    },
    {
     "name": "stdout",
     "output_type": "stream",
     "text": [
      "\n",
      "WARNING: The TensorFlow contrib module will not be included in TensorFlow 2.0.\n",
      "For more information, please see:\n",
      "  * https://github.com/tensorflow/community/blob/master/rfcs/20180907-contrib-sunset.md\n",
      "  * https://github.com/tensorflow/addons\n",
      "If you depend on functionality not listed there, please file an issue.\n",
      "\n"
     ]
    },
    {
     "name": "stderr",
     "output_type": "stream",
     "text": [
      "WARNING:tensorflow:From /Users/das/anaconda2/envs/py36/lib/python3.6/site-packages/tensorflow/python/ops/math_ops.py:3066: to_int32 (from tensorflow.python.ops.math_ops) is deprecated and will be removed in a future version.\n",
      "Instructions for updating:\n",
      "Use tf.cast instead.\n",
      "WARNING:tensorflow:From /Users/das/anaconda2/envs/py36/lib/python3.6/site-packages/tensorflow/python/ops/math_grad.py:102: div (from tensorflow.python.ops.math_ops) is deprecated and will be removed in a future version.\n",
      "Instructions for updating:\n",
      "Deprecated in favor of operator or tf.math.divide.\n",
      "INFO:rasa_nlu.classifiers.embedding_intent_classifier:Accuracy is updated every 10 epochs\n",
      "Epochs: 100%|██████████| 300/300 [00:02<00:00, 109.15it/s, loss=0.084, acc=1.000]\n",
      "INFO:rasa_nlu.classifiers.embedding_intent_classifier:Finished training embedding classifier, loss=0.084, train accuracy=1.000\n",
      "INFO:rasa_nlu.model:Finished training component.\n",
      "INFO:rasa_nlu.model:Successfully saved model into '/Users/das/mb17_synced/work/teaching/ss19/SDS/Sitzungen/04/Prep/models/nlu/default/current'\n"
     ]
    }
   ],
   "source": [
    "# train the model!\n",
    "interpreter = trainer.train(training_data, verbose=True)\n",
    "\n",
    "# store it for future use\n",
    "model_directory = trainer.persist(\"./models/nlu\", fixed_model_name=\"current\")"
   ]
  },
  {
   "cell_type": "code",
   "execution_count": 7,
   "metadata": {},
   "outputs": [
    {
     "name": "stdout",
     "output_type": "stream",
     "text": [
      "{\n",
      "  \"intent\": {\n",
      "    \"name\": \"restaurant_search\",\n",
      "    \"confidence\": 0.9701788425445557\n",
      "  },\n",
      "  \"entities\": [\n",
      "    {\n",
      "      \"start\": 36,\n",
      "      \"end\": 40,\n",
      "      \"value\": \"west\",\n",
      "      \"entity\": \"location\",\n",
      "      \"confidence\": 0.8219546816420032,\n",
      "      \"extractor\": \"CRFEntityExtractor\"\n",
      "    }\n",
      "  ],\n",
      "  \"intent_ranking\": [\n",
      "    {\n",
      "      \"name\": \"restaurant_search\",\n",
      "      \"confidence\": 0.9701788425445557\n",
      "    },\n",
      "    {\n",
      "      \"name\": \"thankyou\",\n",
      "      \"confidence\": 0.05918114259839058\n",
      "    },\n",
      "    {\n",
      "      \"name\": \"greet\",\n",
      "      \"confidence\": 0.0\n",
      "    }\n",
      "  ],\n",
      "  \"text\": \"moderately priced restaurant in the west\"\n",
      "}\n"
     ]
    }
   ],
   "source": [
    "pprint(interpreter.parse(\"moderately priced restaurant in the west\"))"
   ]
  },
  {
   "cell_type": "code",
   "execution_count": 9,
   "metadata": {},
   "outputs": [
    {
     "name": "stdout",
     "output_type": "stream",
     "text": [
      "{\n",
      "  \"intent\": {\n",
      "    \"name\": \"restaurant_search\",\n",
      "    \"confidence\": 0.9789642095565796\n",
      "  },\n",
      "  \"entities\": [],\n",
      "  \"intent_ranking\": [\n",
      "    {\n",
      "      \"name\": \"restaurant_search\",\n",
      "      \"confidence\": 0.9789642095565796\n",
      "    },\n",
      "    {\n",
      "      \"name\": \"thankyou\",\n",
      "      \"confidence\": 0.0\n",
      "    },\n",
      "    {\n",
      "      \"name\": \"greet\",\n",
      "      \"confidence\": 0.0\n",
      "    }\n",
      "  ],\n",
      "  \"text\": \"I am looking for a place to eat that is not in the south\"\n",
      "}\n"
     ]
    }
   ],
   "source": [
    "pprint(interpreter.parse(\"I am looking for a place to eat that is not in the south\"))"
   ]
  },
  {
   "cell_type": "code",
   "execution_count": 11,
   "metadata": {},
   "outputs": [
    {
     "name": "stdout",
     "output_type": "stream",
     "text": [
      "{\n",
      "  \"intent\": {\n",
      "    \"name\": \"greet\",\n",
      "    \"confidence\": 0.9485673904418945\n",
      "  },\n",
      "  \"entities\": [],\n",
      "  \"intent_ranking\": [\n",
      "    {\n",
      "      \"name\": \"greet\",\n",
      "      \"confidence\": 0.9485673904418945\n",
      "    },\n",
      "    {\n",
      "      \"name\": \"thankyou\",\n",
      "      \"confidence\": 0.11189600825309753\n",
      "    },\n",
      "    {\n",
      "      \"name\": \"restaurant_search\",\n",
      "      \"confidence\": 0.0\n",
      "    }\n",
      "  ],\n",
      "  \"text\": \"good day\"\n",
      "}\n"
     ]
    }
   ],
   "source": [
    "pprint(interpreter.parse(\"good day\"))"
   ]
  },
  {
   "cell_type": "code",
   "execution_count": 12,
   "metadata": {
    "scrolled": true
   },
   "outputs": [
    {
     "name": "stderr",
     "output_type": "stream",
     "text": [
      "WARNING:tensorflow:From /Users/das/anaconda2/envs/py36/lib/python3.6/site-packages/tensorflow/python/training/saver.py:1266: checkpoint_exists (from tensorflow.python.training.checkpoint_management) is deprecated and will be removed in a future version.\n",
      "Instructions for updating:\n",
      "Use standard file APIs to check for files with this prefix.\n",
      "INFO:tensorflow:Restoring parameters from /Users/das/mb17_synced/work/teaching/ss19/SDS/Sitzungen/04/Prep/./models/nlu/default/current/component_5_EmbeddingIntentClassifier.ckpt\n",
      "INFO:rasa_nlu.training_data.loading:Training data format of nlu.md is md\n",
      "INFO:rasa_nlu.training_data.training_data:Training data stats: \n",
      "\t- intent examples: 22 (3 distinct intents)\n",
      "\t- Found intents: 'greet', 'restaurant_search', 'thankyou'\n",
      "\t- entity examples: 8 (2 distinct entities)\n",
      "\t- found entities: 'location', 'cuisine'\n",
      "\n",
      "INFO:rasa_nlu.test:Running model for predictions:\n",
      "100%|██████████| 22/22 [00:00<00:00, 219.88it/s]\n",
      "INFO:rasa_nlu.test:Intent evaluation results:\n",
      "INFO:rasa_nlu.test:Intent Evaluation: Only considering those 22 examples that have a defined intent out of 22 examples\n",
      "INFO:rasa_nlu.test:F1-Score:  1.0\n",
      "INFO:rasa_nlu.test:Precision: 1.0\n",
      "INFO:rasa_nlu.test:Accuracy:  1.0\n",
      "INFO:rasa_nlu.test:Classification report: \n",
      "                   precision    recall  f1-score   support\n",
      "\n",
      "            greet       1.00      1.00      1.00         6\n",
      "restaurant_search       1.00      1.00      1.00        12\n",
      "         thankyou       1.00      1.00      1.00         4\n",
      "\n",
      "        micro avg       1.00      1.00      1.00        22\n",
      "        macro avg       1.00      1.00      1.00        22\n",
      "     weighted avg       1.00      1.00      1.00        22\n",
      "\n",
      "INFO:rasa_nlu.test:Your model made no errors\n",
      "INFO:rasa_nlu.test:Entity evaluation results:\n",
      "INFO:rasa_nlu.test:Evaluation for entity extractor: CRFEntityExtractor \n",
      "INFO:rasa_nlu.test:F1-Score:  1.0\n",
      "INFO:rasa_nlu.test:Precision: 1.0\n",
      "INFO:rasa_nlu.test:Accuracy:  1.0\n",
      "INFO:rasa_nlu.test:Classification report: \n",
      "              precision    recall  f1-score   support\n",
      "\n",
      "     cuisine       1.00      1.00      1.00         5\n",
      "    location       1.00      1.00      1.00         5\n",
      "   no_entity       1.00      1.00      1.00        78\n",
      "\n",
      "   micro avg       1.00      1.00      1.00        88\n",
      "   macro avg       1.00      1.00      1.00        88\n",
      "weighted avg       1.00      1.00      1.00        88\n",
      "\n"
     ]
    },
    {
     "data": {
      "text/plain": [
       "{'entity_evaluation': {'CRFEntityExtractor': {'accuracy': 1.0,\n",
       "   'f1_score': 1.0,\n",
       "   'precision': 1.0,\n",
       "   'report': '              precision    recall  f1-score   support\\n\\n     cuisine       1.00      1.00      1.00         5\\n    location       1.00      1.00      1.00         5\\n   no_entity       1.00      1.00      1.00        78\\n\\n   micro avg       1.00      1.00      1.00        88\\n   macro avg       1.00      1.00      1.00        88\\nweighted avg       1.00      1.00      1.00        88\\n'}},\n",
       " 'intent_evaluation': {'accuracy': 1.0,\n",
       "  'f1_score': 1.0,\n",
       "  'precision': 1.0,\n",
       "  'predictions': [{'confidence': 0.937021017074585,\n",
       "    'intent': 'greet',\n",
       "    'predicted': 'greet',\n",
       "    'text': 'hey'},\n",
       "   {'confidence': 0.9449281692504883,\n",
       "    'intent': 'greet',\n",
       "    'predicted': 'greet',\n",
       "    'text': 'hello'},\n",
       "   {'confidence': 0.9457494020462036,\n",
       "    'intent': 'greet',\n",
       "    'predicted': 'greet',\n",
       "    'text': 'hi'},\n",
       "   {'confidence': 0.9503194093704224,\n",
       "    'intent': 'greet',\n",
       "    'predicted': 'greet',\n",
       "    'text': 'good morning'},\n",
       "   {'confidence': 0.9522038698196411,\n",
       "    'intent': 'greet',\n",
       "    'predicted': 'greet',\n",
       "    'text': 'good evening'},\n",
       "   {'confidence': 0.9336457848548889,\n",
       "    'intent': 'greet',\n",
       "    'predicted': 'greet',\n",
       "    'text': 'hey there'},\n",
       "   {'confidence': 0.9751348495483398,\n",
       "    'intent': 'restaurant_search',\n",
       "    'predicted': 'restaurant_search',\n",
       "    'text': \"i'm looking for a place to eat\"},\n",
       "   {'confidence': 0.9732785820960999,\n",
       "    'intent': 'restaurant_search',\n",
       "    'predicted': 'restaurant_search',\n",
       "    'text': 'I want to grab lunch'},\n",
       "   {'confidence': 0.9696658849716187,\n",
       "    'intent': 'restaurant_search',\n",
       "    'predicted': 'restaurant_search',\n",
       "    'text': 'I am searching for a dinner spot'},\n",
       "   {'confidence': 0.97477126121521,\n",
       "    'intent': 'restaurant_search',\n",
       "    'predicted': 'restaurant_search',\n",
       "    'text': \"i'm looking for a place in the north of town\"},\n",
       "   {'confidence': 0.9681081175804138,\n",
       "    'intent': 'restaurant_search',\n",
       "    'predicted': 'restaurant_search',\n",
       "    'text': 'show me chinese restaurants'},\n",
       "   {'confidence': 0.971849262714386,\n",
       "    'intent': 'restaurant_search',\n",
       "    'predicted': 'restaurant_search',\n",
       "    'text': 'show me a mexican place in the centre'},\n",
       "   {'confidence': 0.976181149482727,\n",
       "    'intent': 'restaurant_search',\n",
       "    'predicted': 'restaurant_search',\n",
       "    'text': 'i am looking for an indian spot'},\n",
       "   {'confidence': 0.9725778698921204,\n",
       "    'intent': 'restaurant_search',\n",
       "    'predicted': 'restaurant_search',\n",
       "    'text': 'search for restaurants'},\n",
       "   {'confidence': 0.9774038791656494,\n",
       "    'intent': 'restaurant_search',\n",
       "    'predicted': 'restaurant_search',\n",
       "    'text': 'anywhere in the west'},\n",
       "   {'confidence': 0.9716191291809082,\n",
       "    'intent': 'restaurant_search',\n",
       "    'predicted': 'restaurant_search',\n",
       "    'text': 'anywhere near 18328'},\n",
       "   {'confidence': 0.978370726108551,\n",
       "    'intent': 'restaurant_search',\n",
       "    'predicted': 'restaurant_search',\n",
       "    'text': 'I am looking for asian fusion food'},\n",
       "   {'confidence': 0.9741864204406738,\n",
       "    'intent': 'restaurant_search',\n",
       "    'predicted': 'restaurant_search',\n",
       "    'text': 'I am looking a restaurant in 29432'},\n",
       "   {'confidence': 0.9532245397567749,\n",
       "    'intent': 'thankyou',\n",
       "    'predicted': 'thankyou',\n",
       "    'text': 'thanks!'},\n",
       "   {'confidence': 0.9568804502487183,\n",
       "    'intent': 'thankyou',\n",
       "    'predicted': 'thankyou',\n",
       "    'text': 'thank you'},\n",
       "   {'confidence': 0.9510318040847778,\n",
       "    'intent': 'thankyou',\n",
       "    'predicted': 'thankyou',\n",
       "    'text': 'thx'},\n",
       "   {'confidence': 0.9519928693771362,\n",
       "    'intent': 'thankyou',\n",
       "    'predicted': 'thankyou',\n",
       "    'text': 'thanks very much'}],\n",
       "  'report': '                   precision    recall  f1-score   support\\n\\n            greet       1.00      1.00      1.00         6\\nrestaurant_search       1.00      1.00      1.00        12\\n         thankyou       1.00      1.00      1.00         4\\n\\n        micro avg       1.00      1.00      1.00        22\\n        macro avg       1.00      1.00      1.00        22\\n     weighted avg       1.00      1.00      1.00        22\\n'}}"
      ]
     },
     "execution_count": 12,
     "metadata": {},
     "output_type": "execute_result"
    }
   ],
   "source": [
    "from rasa_nlu.test import run_evaluation\n",
    "import IPython\n",
    "from IPython import display\n",
    "\n",
    "run_evaluation('nlu.md', model_directory)"
   ]
  },
  {
   "cell_type": "code",
   "execution_count": null,
   "metadata": {},
   "outputs": [],
   "source": []
  }
 ],
 "metadata": {
  "kernelspec": {
   "display_name": "Python 3",
   "language": "python",
   "name": "python3"
  },
  "language_info": {
   "codemirror_mode": {
    "name": "ipython",
    "version": 3
   },
   "file_extension": ".py",
   "mimetype": "text/x-python",
   "name": "python",
   "nbconvert_exporter": "python",
   "pygments_lexer": "ipython3",
   "version": "3.6.4"
  },
  "latex_envs": {
   "LaTeX_envs_menu_present": true,
   "autoclose": false,
   "autocomplete": true,
   "bibliofile": "biblio.bib",
   "cite_by": "apalike",
   "current_citInitial": 1,
   "eqLabelWithNumbers": true,
   "eqNumInitial": 1,
   "hotkeys": {
    "equation": "ctrl-q"
   },
   "labels_anchors": false,
   "latex_user_defs": false,
   "report_style_numbering": false,
   "user_envs_cfg": false
  },
  "toc": {
   "base_numbering": 1,
   "nav_menu": {},
   "number_sections": true,
   "sideBar": true,
   "skip_h1_title": false,
   "title_cell": "Table of Contents",
   "title_sidebar": "Contents",
   "toc_cell": false,
   "toc_position": {},
   "toc_section_display": true,
   "toc_window_display": false
  }
 },
 "nbformat": 4,
 "nbformat_minor": 2
}
