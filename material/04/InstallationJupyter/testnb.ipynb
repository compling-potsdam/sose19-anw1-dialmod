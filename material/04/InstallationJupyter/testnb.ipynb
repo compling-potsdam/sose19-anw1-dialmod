{
 "cells": [
  {
   "cell_type": "markdown",
   "metadata": {},
   "source": [
    "*Sommersemester 2019, Uni Potsdam, David Schlangen*\n",
    "\n",
    "# Ein erster Test des IPython-Notebooks\n",
    "\n",
    "Herzlichen Glückwunsch. Sie haben hiermit ihr erstes *Jupyter / IPython notebook* geöffnet.\n",
    "\n",
    "Wie in der Veranstaltung kurz erläutert, erlaubt Ihnen ein solches Notebook, einen Dialog zu führen mit einer Programmierumgebung (der Programmiersprache *python*), sowie diesen Dialog aufzuzeichnen und zu speichern. Ein wenig ist dies, was Sie hier sehen, wie ein Chat-Programm wie Skype oder WhatsApp, nur dass auf der anderen Seite ein Computer ist, dem Sie Anweisungen geben und der darauf antwortet.\n",
    "\n",
    "Dieses Notebook hier enthält schon die Aufzeichnung einiger Anweisungen, die ich auf meinem Rechner schoneinmal ausgeführt habe (also quasi die Aufzeichnung eines Dialoges, der schon stattgefunden hat); Sie können diese Anweisungen aber auch nochmal auf Ihrem Rechner durchführen.\n",
    "\n",
    "Eine Anweisung wird abgeschickt, indem in dem entsprechenden Feld die Tasten \"Shift\" (Hochstelltaste) und \"Return\" (\"↵\") zusammen gedrückt werden. Versuchen Sie das einmal in dem folgenden Feld (das Sie zuerst aktivieren, indem Sie einfach drauf klicken):"
   ]
  },
  {
   "cell_type": "code",
   "execution_count": 1,
   "metadata": {},
   "outputs": [
    {
     "data": {
      "text/plain": [
       "3"
      ]
     },
     "execution_count": 1,
     "metadata": {},
     "output_type": "execute_result"
    }
   ],
   "source": [
    "1 + 2"
   ]
  },
  {
   "cell_type": "markdown",
   "metadata": {},
   "source": [
    "Hier sollte sich jetzt kaum etwas verändert haben: Ob *ich* nun *meine* Python-Umgebung frage, was `1 + 2` ist, oder *Sie Ihre*, sollte keinen Unterschied machen (die Antwort sollte gleich bleiben...). Aber ändern Sie doch einmal die Zahlen, oder geben Sie kompliziertere Rechenanfragen ein (und führen das wieder durch Shift-Return aus)."
   ]
  },
  {
   "cell_type": "code",
   "execution_count": null,
   "metadata": {},
   "outputs": [],
   "source": []
  }
 ],
 "metadata": {
  "kernelspec": {
   "display_name": "Python 2",
   "language": "python",
   "name": "python2"
  },
  "language_info": {
   "codemirror_mode": {
    "name": "ipython",
    "version": 2
   },
   "file_extension": ".py",
   "mimetype": "text/x-python",
   "name": "python",
   "nbconvert_exporter": "python",
   "pygments_lexer": "ipython2",
   "version": "2.7.15"
  },
  "latex_envs": {
   "LaTeX_envs_menu_present": true,
   "autoclose": false,
   "autocomplete": true,
   "bibliofile": "biblio.bib",
   "cite_by": "apalike",
   "current_citInitial": 1,
   "eqLabelWithNumbers": true,
   "eqNumInitial": 1,
   "hotkeys": {
    "equation": "alt-ctrl-e"
   },
   "labels_anchors": false,
   "latex_user_defs": false,
   "report_style_numbering": false,
   "user_envs_cfg": false
  },
  "toc": {
   "base_numbering": 1,
   "nav_menu": {},
   "number_sections": true,
   "sideBar": true,
   "skip_h1_title": false,
   "title_cell": "Table of Contents",
   "title_sidebar": "Contents",
   "toc_cell": false,
   "toc_position": {},
   "toc_section_display": true,
   "toc_window_display": false
  }
 },
 "nbformat": 4,
 "nbformat_minor": 1
}
