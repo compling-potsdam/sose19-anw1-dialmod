{
 "cells": [
  {
   "cell_type": "code",
   "execution_count": 1,
   "metadata": {},
   "outputs": [],
   "source": [
    "import requests"
   ]
  },
  {
   "cell_type": "code",
   "execution_count": 2,
   "metadata": {},
   "outputs": [],
   "source": [
    "api_url_base = 'https://openmensa.org/api/v2/canteens'"
   ]
  },
  {
   "cell_type": "code",
   "execution_count": 3,
   "metadata": {},
   "outputs": [],
   "source": [
    "r = requests.get(api_url_base)"
   ]
  },
  {
   "cell_type": "markdown",
   "metadata": {},
   "source": [
    "Gibt ein Objekt zurück, dass so in JSON serialisiert werden kann:"
   ]
  },
  {
   "cell_type": "code",
   "execution_count": 4,
   "metadata": {},
   "outputs": [
    {
     "data": {
      "text/plain": [
       "[{'address': 'Pfälzer Str. 1, 39106 Magdeburg',\n",
       "  'city': 'Magdeburg',\n",
       "  'coordinates': [52.1396188273019, 11.6475999355316],\n",
       "  'id': 1,\n",
       "  'name': 'Mensa UniCampus Magdeburg'},\n",
       " {'address': 'Breitscheidstr. 2, 39114 Magdeburg',\n",
       "  'city': 'Magdeburg',\n",
       "  'coordinates': [52.1400665853041, 11.6756665706635],\n",
       "  'id': 2,\n",
       "  'name': 'Magdeburg Herrenkurg'},\n",
       " {'address': 'Osterburger Str. 25, 39567 Stendal',\n",
       "  'city': 'Stendal',\n",
       "  'coordinates': [52.6150157580221, 11.8493020534515],\n",
       "  'id': 3,\n",
       "  'name': 'Mensa Stendal'},\n",
       " {'address': 'Friedrichstraße 57 – 59,  38855 Wernigerode',\n",
       "  'city': 'Wernigerode',\n",
       "  'coordinates': [51.8257591770436, 10.7600033283234],\n",
       "  'id': 4,\n",
       "  'name': 'Mensa Wernigerode'},\n",
       " {'address': 'Am Domplatz 16,  38820 Halberstadt',\n",
       "  'city': 'Halberstadt',\n",
       "  'coordinates': [51.8953475464613, 11.0474610328674],\n",
       "  'id': 5,\n",
       "  'name': 'DomCafete Halberstadt'},\n",
       " {'address': 'Callinstraße 23, 30167 Hannover',\n",
       "  'city': 'Hannover',\n",
       "  'coordinates': [52.3862085244495, 9.71405982971191],\n",
       "  'id': 6,\n",
       "  'name': 'Hannover Hauptmensa'},\n",
       " {'address': 'Königsworther Platz 1, 30167 Hannover',\n",
       "  'city': 'Hannover',\n",
       "  'coordinates': [52.3791768, 9.7238821],\n",
       "  'id': 7,\n",
       "  'name': 'Hannover, Contine'},\n",
       " {'address': 'An der Universität 2, 30823 Garbsen',\n",
       "  'city': 'Garbsen',\n",
       "  'coordinates': [52.4258465741202, 9.61870193481445],\n",
       "  'id': 8,\n",
       "  'name': 'Mensa PZH'},\n",
       " {'address': 'Bischofsholer Damm 15, 30173 Hannover',\n",
       "  'city': 'Hannover',\n",
       "  'coordinates': [52.36893, 9.76545],\n",
       "  'id': 9,\n",
       "  'name': 'Mensa Caballus'},\n",
       " {'address': 'Bünteweg 2, 30559 Hannover',\n",
       "  'city': 'Hannover',\n",
       "  'coordinates': [52.3544121502872, 9.79757308959961],\n",
       "  'id': 10,\n",
       "  'name': 'Mensa TiHo-Tower'}]"
      ]
     },
     "execution_count": 4,
     "metadata": {},
     "output_type": "execute_result"
    }
   ],
   "source": [
    "r.json()[:10]"
   ]
  },
  {
   "cell_type": "code",
   "execution_count": 5,
   "metadata": {},
   "outputs": [],
   "source": [
    "potsdam_mensas = [m for m in r.json() if m['city'] == 'Potsdam']"
   ]
  },
  {
   "cell_type": "code",
   "execution_count": 6,
   "metadata": {},
   "outputs": [
    {
     "data": {
      "text/plain": [
       "[{'address': 'Am Neuen Palais 10, Haus 12, 14469 Potsdam',\n",
       "  'city': 'Potsdam',\n",
       "  'coordinates': [52.399, 13.01494],\n",
       "  'id': 55,\n",
       "  'name': 'Mensa Am Neuen Palais'},\n",
       " {'address': 'Kiepenheuerallee 5, 14469 Potsdam',\n",
       "  'city': 'Potsdam',\n",
       "  'coordinates': [52.4138430685233, 13.051575422287],\n",
       "  'id': 57,\n",
       "  'name': 'Mensa Kiepenheuerallee'},\n",
       " {'address': 'Karl-Liebknecht-Str. 24/25, 14476 Potsdam OT Golm',\n",
       "  'city': 'Potsdam',\n",
       "  'coordinates': [52.4079104487786, 12.9789519309998],\n",
       "  'id': 61,\n",
       "  'name': 'Mensa Golm'},\n",
       " {'address': 'August-Bebel-Str. 89, 14482 Potsdam',\n",
       "  'city': 'Potsdam',\n",
       "  'coordinates': [52.3935353446923, 13.1278145313263],\n",
       "  'id': 62,\n",
       "  'name': 'Mensa Griebnitzsee'}]"
      ]
     },
     "execution_count": 6,
     "metadata": {},
     "output_type": "execute_result"
    }
   ],
   "source": [
    "potsdam_mensas"
   ]
  },
  {
   "cell_type": "code",
   "execution_count": 7,
   "metadata": {},
   "outputs": [],
   "source": [
    "name2id = dict([(e['name'], e['id']) for e in potsdam_mensas])\n",
    "id2name = dict([(e['id'], e['name']) for e in potsdam_mensas])"
   ]
  },
  {
   "cell_type": "code",
   "execution_count": 8,
   "metadata": {},
   "outputs": [
    {
     "name": "stdout",
     "output_type": "stream",
     "text": [
      "https://openmensa.org/api/v2/canteens/61/days/2019-06-19/meals\n"
     ]
    }
   ],
   "source": [
    "day = '2019-06-19'\n",
    "this_query = api_url_base + '/' + str(name2id['Mensa Golm']) + '/days/' + day + '/meals'\n",
    "print(this_query)\n",
    "r = requests.get(this_query)"
   ]
  },
  {
   "cell_type": "code",
   "execution_count": 9,
   "metadata": {},
   "outputs": [
    {
     "data": {
      "text/plain": [
       "[{'category': 'Angebot 1',\n",
       "  'id': 4322762,\n",
       "  'name': 'Quarkkeulchen mit Apfelmus',\n",
       "  'notes': ['Vegetarisch'],\n",
       "  'prices': {'employees': 3.1,\n",
       "   'others': 3.1,\n",
       "   'pupils': None,\n",
       "   'students': 1.4}},\n",
       " {'category': 'Angebot 1',\n",
       "  'id': 4294653,\n",
       "  'name': 'Eierspätzle mit Rahm-Champignons',\n",
       "  'notes': ['Vegetarisch'],\n",
       "  'prices': {'employees': 3.1,\n",
       "   'others': 3.1,\n",
       "   'pupils': None,\n",
       "   'students': 1.4}},\n",
       " {'category': 'Angebot 2',\n",
       "  'id': 4294654,\n",
       "  'name': 'Schaschlikpfanne mit saurer Sahne und Langkornreis',\n",
       "  'notes': ['Schweinefleisch', 'Knoblauch'],\n",
       "  'prices': {'employees': 3.9,\n",
       "   'others': 3.9,\n",
       "   'pupils': None,\n",
       "   'students': 2.0}},\n",
       " {'category': 'Angebot 2',\n",
       "  'id': 4324094,\n",
       "  'name': 'Heringsdillhappen mit Bratkartoffeln und Salat',\n",
       "  'notes': ['Schweinefleisch', 'Fisch'],\n",
       "  'prices': {'employees': 3.9,\n",
       "   'others': 3.9,\n",
       "   'pupils': None,\n",
       "   'students': 2.0}},\n",
       " {'category': 'Angebot 3',\n",
       "  'id': 4322763,\n",
       "  'name': 'Fangfrisches Lachsforellenfilet mit buntem Gemüse und Kartoffelrisotto',\n",
       "  'notes': ['Knoblauch', 'Fisch', 'Alkohol'],\n",
       "  'prices': {'employees': 4.5,\n",
       "   'others': 4.5,\n",
       "   'pupils': None,\n",
       "   'students': 2.5}},\n",
       " {'category': 'Angebot 4',\n",
       "  'id': 4294656,\n",
       "  'name': 'Beelitzer Dinkelnudeln Bologneser Art \\nvon roten Linsen, dazu italienischer Salat',\n",
       "  'notes': ['Vital', 'Vegan', 'Knoblauch'],\n",
       "  'prices': {'employees': 4.5,\n",
       "   'others': 4.5,\n",
       "   'pupils': None,\n",
       "   'students': 2.5}},\n",
       " {'category': 'Foodhopper',\n",
       "  'id': 4319428,\n",
       "  'name': 'Hamburger mit Rindfleisch',\n",
       "  'notes': ['Rindfleisch', 'Foottruck'],\n",
       "  'prices': {'employees': None,\n",
       "   'others': 4.5,\n",
       "   'pupils': None,\n",
       "   'students': 2.5}},\n",
       " {'category': 'Foodhopper',\n",
       "  'id': 4319429,\n",
       "  'name': 'Falafel-Burger',\n",
       "  'notes': ['Vegetarisch', 'Foottruck'],\n",
       "  'prices': {'employees': None,\n",
       "   'others': 4.5,\n",
       "   'pupils': None,\n",
       "   'students': 2.5}},\n",
       " {'category': 'Nudeltheke',\n",
       "  'id': 4322764,\n",
       "  'name': '3erlei Nudeln, dazu Florentiner Sauce',\n",
       "  'notes': ['Vegetarisch', 'Knoblauch'],\n",
       "  'prices': {'employees': 3.9,\n",
       "   'others': 3.9,\n",
       "   'pupils': None,\n",
       "   'students': 2.0}},\n",
       " {'category': 'Nudeltheke',\n",
       "  'id': 4318132,\n",
       "  'name': '3erlei Nudeln, dazu veganes Gemüse oder vegane Tomatensauce',\n",
       "  'notes': ['Vegan', 'Knoblauch'],\n",
       "  'prices': {'employees': 3.9,\n",
       "   'others': 3.9,\n",
       "   'pupils': None,\n",
       "   'students': 2.0}},\n",
       " {'category': 'Nudeltheke',\n",
       "  'id': 4322765,\n",
       "  'name': '3erlei Nudeln, dazu Hähnchenpfanne \"Asia\"',\n",
       "  'notes': ['Knoblauch', 'Gefluegel'],\n",
       "  'prices': {'employees': 3.9,\n",
       "   'others': 3.9,\n",
       "   'pupils': None,\n",
       "   'students': 2.0}}]"
      ]
     },
     "execution_count": 9,
     "metadata": {},
     "output_type": "execute_result"
    }
   ],
   "source": [
    "r.json()"
   ]
  },
  {
   "cell_type": "code",
   "execution_count": null,
   "metadata": {},
   "outputs": [],
   "source": []
  }
 ],
 "metadata": {
  "kernelspec": {
   "display_name": "Python 3",
   "language": "python",
   "name": "python3"
  },
  "language_info": {
   "codemirror_mode": {
    "name": "ipython",
    "version": 3
   },
   "file_extension": ".py",
   "mimetype": "text/x-python",
   "name": "python",
   "nbconvert_exporter": "python",
   "pygments_lexer": "ipython3",
   "version": "3.6.4"
  },
  "latex_envs": {
   "LaTeX_envs_menu_present": true,
   "autoclose": false,
   "autocomplete": true,
   "bibliofile": "biblio.bib",
   "cite_by": "apalike",
   "current_citInitial": 1,
   "eqLabelWithNumbers": true,
   "eqNumInitial": 1,
   "hotkeys": {
    "equation": "ctrl-q"
   },
   "labels_anchors": false,
   "latex_user_defs": false,
   "report_style_numbering": false,
   "user_envs_cfg": false
  },
  "toc": {
   "base_numbering": 1,
   "nav_menu": {},
   "number_sections": true,
   "sideBar": true,
   "skip_h1_title": false,
   "title_cell": "Table of Contents",
   "title_sidebar": "Contents",
   "toc_cell": false,
   "toc_position": {},
   "toc_section_display": true,
   "toc_window_display": false
  }
 },
 "nbformat": 4,
 "nbformat_minor": 2
}
